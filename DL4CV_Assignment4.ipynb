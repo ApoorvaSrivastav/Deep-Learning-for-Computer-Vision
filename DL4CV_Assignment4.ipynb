{
 "cells": [
  {
   "cell_type": "markdown",
   "metadata": {
    "id": "QCYZMNB89n6C"
   },
   "source": [
    "**Welcome to Assignment 4 on Deep Learning for Computer Vision.**\n",
    "\n",
    "This assignment consists of three parts. Part-1 is based on the content you learned in Week-7 of course and Part-2 is based on the content you learned in Week-8 of the course. \n",
    "\n",
    "\n",
    "#### **Instructions**\n",
    "1. Use Python 3.x to run this notebook\n",
    "2. Write your code only in between the lines 'YOUR CODE STARTS HERE' and 'YOUR CODE ENDS HERE'.\n",
    "you should not change anything else in the code cells, if you do, the answers you are supposed to get at the end of this assignment might be wrong.\n",
    "3. Read documentation of each function carefully.\n",
    "4. All the Best!"
   ]
  },
  {
   "cell_type": "markdown",
   "metadata": {
    "id": "O9ZO0lUg9vnm"
   },
   "source": [
    "# Part-1"
   ]
  },
  {
   "cell_type": "markdown",
   "metadata": {
    "id": "AtVEfKH7dqbu"
   },
   "source": [
    "## Triplet loss:\n",
    "\n",
    "In this question you will implement triplet loss for MNIST dataset."
   ]
  },
  {
   "cell_type": "code",
   "execution_count": 1,
   "metadata": {
    "id": "yEOowOYw9Uxo"
   },
   "outputs": [],
   "source": [
    "import numpy as np\n",
    "import torch\n",
    "import torch.nn as nn\n",
    "import torch.optim as optim\n",
    "from torchvision import datasets, transforms\n",
    "import torch.nn.functional as F\n",
    "from torch.utils.data import Dataset\n",
    "from torch.utils.data.sampler import BatchSampler\n",
    "from torch.optim import lr_scheduler\n",
    "from PIL import Image\n",
    "import timeit\n",
    "from torchvision.datasets import MNIST\n",
    "from torchvision import transforms\n",
    "\n",
    "## Please DONOT remove these lines. \n",
    "torch.manual_seed(0)\n",
    "torch.backends.cudnn.deterministic = True\n",
    "torch.backends.cudnn.benchmark = False\n",
    "np.random.seed(0)\n",
    "########################\n",
    "\n",
    "cuda = torch.cuda.is_available()\n",
    "#### YOUR CODE STARTS HERE ####\n",
    "# Check availability of GPU and set the device accordingly\n",
    "device =  \"cuda\" if cuda else \"cpu\"\n",
    "#### YOUR CODE ENDS HERE ####\n"
   ]
  },
  {
   "cell_type": "code",
   "execution_count": 2,
   "metadata": {
    "id": "n9TiTCF5CXCQ"
   },
   "outputs": [],
   "source": [
    "\n",
    "#Prepare dataset\n",
    "train_dataset = MNIST('../data/MNIST', train=True, download=True,\n",
    "                             transform=transforms.Compose([\n",
    "                                 transforms.ToTensor(),\n",
    "                                 transforms.Normalize((0.1307,), (0.3081,))\n",
    "                             ]))\n",
    "test_dataset = MNIST('../data/MNIST', train=False, download=True,\n",
    "                            transform=transforms.Compose([\n",
    "                                transforms.ToTensor(),\n",
    "                                transforms.Normalize((0.1307,), (0.3081,))\n",
    "                            ]))\n",
    "n_classes = 10\n"
   ]
  },
  {
   "cell_type": "markdown",
   "metadata": {
    "id": "V8XloNEneiOa"
   },
   "source": [
    "###Create dataset for Triplet Network"
   ]
  },
  {
   "cell_type": "code",
   "execution_count": 3,
   "metadata": {
    "id": "_BulQt1C_FJD"
   },
   "outputs": [],
   "source": [
    "class TripletDataset(Dataset):\n",
    "    \"\"\"\n",
    "    This program returns anchor, positive and negative sample for training \n",
    "    Creates fixed triplets for testing\n",
    "    \"\"\"\n",
    "\n",
    "    def __init__(self, mnist_dataset):\n",
    "        self.mnist_dataset = mnist_dataset\n",
    "        self.train = self.mnist_dataset.train\n",
    "        self.transform = self.mnist_dataset.transform\n",
    "        # prepare labels and data for extracting positive and negative samples during training\n",
    "        if self.train:\n",
    "            self.train_labels = self.mnist_dataset.train_labels\n",
    "            self.train_data = self.mnist_dataset.train_data\n",
    "            self.labels_set = set(self.train_labels.numpy())\n",
    "            self.label_to_indices = {label: np.where(self.train_labels.numpy() == label)[0]\n",
    "                                     for label in self.labels_set}\n",
    "        #### YOUR CODE STARTS HERE ####\n",
    "        # Refering to the above code where we prepared labels and data for testing, please prepare test samples\n",
    "        else:\n",
    "            self.test_labels = self.mnist_dataset.test_labels\n",
    "            self.test_data = self.mnist_dataset.test_data\n",
    "            self.labels_set = set(self.test_labels.numpy())\n",
    "            self.label_to_indices = {label: np.where(self.test_labels.numpy() == label)[0]\n",
    "                                     for label in self.labels_set}\n",
    "       #### YOUR CODE ENDS HERE ####\n",
    "            random_state = np.random.RandomState(29)\n",
    "\n",
    "            triplets = [[i,\n",
    "                         random_state.choice(self.label_to_indices[self.test_labels[i].item()]),\n",
    "                         random_state.choice(self.label_to_indices[\n",
    "                                                 np.random.choice(\n",
    "                                                     list(self.labels_set - set([self.test_labels[i].item()]))\n",
    "                                                 )\n",
    "                                             ])\n",
    "                         ]\n",
    "                        for i in range(len(self.test_data))]\n",
    "            self.test_triplets = triplets\n",
    "\n",
    "    def __getitem__(self, index):\n",
    "        if self.train:\n",
    "          #### YOUR CODE STARTS HERE ####\n",
    "            # assign train_data[index] to anchor and train_label[index] item() to label1 \n",
    "            anchor, label1 = self.train_data[index] , self.train_labels[index].item()\n",
    "          #### YOUR CODE ENDS HERE ####\n",
    "            positive_index = index\n",
    "            while positive_index == index:\n",
    "                positive_index = np.random.choice(self.label_to_indices[label1])\n",
    "            negative_label = np.random.choice(list(self.labels_set - set([label1])))\n",
    "            negative_index = np.random.choice(self.label_to_indices[negative_label])\n",
    "            positive = self.train_data[positive_index]\n",
    "            negative = self.train_data[negative_index]\n",
    "        else:\n",
    "           #### YOUR CODE STARTS HERE ####\n",
    "             # assign test_triplets[index][0] to anchor, test_triplets[index][1] as positive sample and test_triplets[index][2]\n",
    "            anchor = self.test_data[self.test_triplets[index][0]]\n",
    "            positive = self.test_data[self.test_triplets[index][1]]\n",
    "            negative = self.test_data[self.test_triplets[index][2]]\n",
    "           #### YOUR CODE ENDS HERE ####\n",
    "\n",
    "        anchor = Image.fromarray(anchor.numpy(), mode='L')\n",
    "        positive = Image.fromarray(positive.numpy(), mode='L')\n",
    "        negative = Image.fromarray(negative.numpy(), mode='L')\n",
    "        if self.transform is not None:\n",
    "            anchor = self.transform(anchor)\n",
    "            positive = self.transform(positive)\n",
    "            negative = self.transform(negative)\n",
    "        return (anchor, positive, negative), []\n",
    "\n",
    "    def __len__(self):\n",
    "        return len(self.mnist_dataset)"
   ]
  },
  {
   "cell_type": "code",
   "execution_count": 4,
   "metadata": {
    "id": "0nsYlOiuDLAw"
   },
   "outputs": [
    {
     "name": "stderr",
     "output_type": "stream",
     "text": [
      "C:\\Users\\Asus\\Anaconda3\\lib\\site-packages\\torchvision\\datasets\\mnist.py:45: UserWarning: train_labels has been renamed targets\n",
      "  warnings.warn(\"train_labels has been renamed targets\")\n",
      "C:\\Users\\Asus\\Anaconda3\\lib\\site-packages\\torchvision\\datasets\\mnist.py:55: UserWarning: train_data has been renamed data\n",
      "  warnings.warn(\"train_data has been renamed data\")\n",
      "C:\\Users\\Asus\\Anaconda3\\lib\\site-packages\\torchvision\\datasets\\mnist.py:50: UserWarning: test_labels has been renamed targets\n",
      "  warnings.warn(\"test_labels has been renamed targets\")\n",
      "C:\\Users\\Asus\\Anaconda3\\lib\\site-packages\\torchvision\\datasets\\mnist.py:60: UserWarning: test_data has been renamed data\n",
      "  warnings.warn(\"test_data has been renamed data\")\n"
     ]
    }
   ],
   "source": [
    "#### YOUR CODE STARTS HERE ####\n",
    "# define the training and test sets\n",
    "# use TripletDataset\n",
    "# pass train_dataset for triplet_train_dataset and test_datset for triplet_test_dataset\n",
    "triplet_train_dataset = TripletDataset(train_dataset)\n",
    "triplet_test_dataset = TripletDataset(test_dataset)\n",
    "#### YOUR CODE ENDS HERE ####\n",
    "batch_size = 128\n",
    "triplet_train_loader = torch.utils.data.DataLoader(triplet_train_dataset, batch_size=batch_size, shuffle=True)\n",
    "triplet_test_loader = torch.utils.data.DataLoader(triplet_test_dataset, batch_size=batch_size, shuffle=False)"
   ]
  },
  {
   "cell_type": "code",
   "execution_count": 5,
   "metadata": {
    "id": "IuBgY8H3ABps"
   },
   "outputs": [],
   "source": [
    "class EmbeddingNet(nn.Module):\n",
    "    def __init__(self):\n",
    "        super(EmbeddingNet, self).__init__()\n",
    "        #### YOUR CODE STARTS HERE ####\n",
    "        # Define a sequential block as per the instructions below:\n",
    "        # Build three blocks with each block containing: Conv->PReLU->Maxpool2d layers\n",
    "        # Three conv layers should have 16, 32, 64 output channels respectively\n",
    "        # Use convolution kernel size 3\n",
    "        # For maxpool use a kernel size of 2 and stride of 2\n",
    "\n",
    "        self.convnet = nn.Sequential( nn.Conv2d(1,16,3),\n",
    "                                      nn.PReLU(),\n",
    "                                      nn.MaxPool2d(2,stride=2),\n",
    "                                      nn.Conv2d(16,32,3),\n",
    "                                      nn.PReLU(),\n",
    "                                      nn.MaxPool2d(2,stride=2),\n",
    "                                      nn.Conv2d(32,64,3),\n",
    "                                      nn.PReLU(),\n",
    "                                      nn.MaxPool2d(2,stride=2)\n",
    "                                     )\n",
    "\n",
    "\n",
    "        # Define linear->PReLU->linear->PReLU->linear\n",
    "        # The first two linear layers should have 256 and 128 output nodes\n",
    "        # The final FC layer should have 2 nodes\n",
    "        self.fc = nn.Sequential(nn.Linear(64*1*1,256),\n",
    "                                nn.PReLU(),\n",
    "                                nn.Linear(256,128),\n",
    "                                nn.PReLU(),\n",
    "                                nn.Linear(128,2))\n",
    "        #### YOUR CODE ENDS HERE ####\n",
    "\n",
    "    def forward(self, x):\n",
    "      #### YOUR CODE STARTS HERE ####\n",
    "        # Define the forward pass, convnet -> fc\n",
    "        output = self.convnet(x)\n",
    "        output = output.view(-1,64*1*1)\n",
    "        output = self.fc(output)\n",
    "        #### YOUR CODE ENDS HERE ####\n",
    "        return output"
   ]
  },
  {
   "cell_type": "code",
   "execution_count": 6,
   "metadata": {
    "id": "Ywj6s1xrAiqi"
   },
   "outputs": [],
   "source": [
    "class TripletNet(nn.Module):\n",
    "    def __init__(self, embedding_net):\n",
    "        super(TripletNet, self).__init__()\n",
    "        self.embedding_net = embedding_net\n",
    "\n",
    "    def forward(self, x1, x2, x3):\n",
    "      #### YOUR CODE STARTS HERE ####\n",
    "      # Call the embedding network for anchor,positive and negative samples (x1,x2,x3)\n",
    "        output1 = self.embedding_net.forward(x1)\n",
    "        output2 = self.embedding_net.forward(x2)\n",
    "        output3 = self.embedding_net.forward(x3)\n",
    "      #### YOUR CODE ENDS HERE ####\n",
    "        return output1, output2, output3\n",
    "\n",
    "    def get_embedding(self, x):\n",
    "        return self.embedding_net(x)"
   ]
  },
  {
   "cell_type": "code",
   "execution_count": 17,
   "metadata": {
    "id": "nxDUKVD1_JqE"
   },
   "outputs": [],
   "source": [
    "class TripletLoss(nn.Module):\n",
    "    \"\"\"\n",
    "    Triplet loss\n",
    "    Takes embeddings of an anchor sample, a positive sample and a negative sample\n",
    "    \"\"\"\n",
    "\n",
    "    def __init__(self, margin):\n",
    "        super(TripletLoss, self).__init__()\n",
    "        self.margin = margin\n",
    "    def calc_euclidean(self, x1, x2):\n",
    "        return ((x1 - x2).pow(2).sum(1)).pow(0.5)\n",
    "\n",
    "    def forward(self, anchor, positive, negative, size_average=True):\n",
    "      #### YOUR CODE STARTS HERE ####\n",
    "        # calculate the eucledian distance between anchor and positive sample\n",
    "        #positive_distance = torch.cdist(anchor,positive)\n",
    "        positive_distance = self.calc_euclidean(anchor, positive)\n",
    "        # calculate the eucledian distance between anchor and negative sample\n",
    "        #negative_distance = torch.cdist(anchor,negative)\n",
    "        negative_distance = self.calc_euclidean(anchor, negative)\n",
    "      #### YOUR CODE ENDS HERE #### \n",
    "        losses = F.relu(positive_distance - negative_distance + self.margin)\n",
    "        return losses.mean() if size_average else losses.sum()"
   ]
  },
  {
   "cell_type": "code",
   "execution_count": 18,
   "metadata": {
    "id": "ppTNLyiPDpqn"
   },
   "outputs": [],
   "source": [
    "margin = 1.\n",
    "embedding_net = EmbeddingNet()\n",
    "model = TripletNet(embedding_net)\n",
    "if cuda:\n",
    "    model.cuda()\n",
    "loss_fn = TripletLoss(margin)\n",
    "optimizer = optim.Adam(model.parameters(), lr=1e-3)"
   ]
  },
  {
   "cell_type": "code",
   "execution_count": 19,
   "metadata": {
    "id": "mjM2ofUage9X"
   },
   "outputs": [],
   "source": [
    "def train_epoch(train_loader, model, loss_fn, optimizer, cuda):\n",
    "    model.train()\n",
    "    total_loss = 0\n",
    "\n",
    "    for batch_idx, (data, target) in enumerate(train_loader):\n",
    "        target = target if len(target) > 0 else None\n",
    "        if not type(data) in (tuple, list):\n",
    "            data = (data,)\n",
    "        if cuda:\n",
    "            data = tuple(d.cuda() for d in data)\n",
    "            if target is not None:\n",
    "                target = target.cuda()\n",
    "                \n",
    "        optimizer.zero_grad()\n",
    "        outputs = model(*data)\n",
    "\n",
    "        if type(outputs) not in (tuple, list):\n",
    "            outputs = (outputs,)\n",
    "\n",
    "        loss_inputs = outputs\n",
    "        if target is not None:\n",
    "            target = (target,)\n",
    "            loss_inputs += target\n",
    "\n",
    "        loss_outputs = loss_fn(*loss_inputs)\n",
    "        loss = loss_outputs[0] if type(loss_outputs) in (tuple, list) else loss_outputs\n",
    "        total_loss += loss.item()\n",
    "        loss.backward()\n",
    "        optimizer.step()\n",
    "\n",
    "    total_loss /= (batch_idx + 1)\n",
    "    return total_loss"
   ]
  },
  {
   "cell_type": "code",
   "execution_count": 20,
   "metadata": {
    "id": "8fSErkFDgf5W"
   },
   "outputs": [],
   "source": [
    "def test_epoch(val_loader, model, loss_fn, cuda):\n",
    "    with torch.no_grad():\n",
    "        model.eval()\n",
    "        val_loss = 0\n",
    "        for batch_idx, (data, target) in enumerate(val_loader):\n",
    "            target = target if len(target) > 0 else None\n",
    "            if not type(data) in (tuple, list):\n",
    "                data = (data,)\n",
    "            if cuda:\n",
    "                data = tuple(d.cuda() for d in data)\n",
    "                if target is not None:\n",
    "                    target = target.cuda()\n",
    "\n",
    "            outputs = model(*data)\n",
    "\n",
    "            if type(outputs) not in (tuple, list):\n",
    "                outputs = (outputs,)\n",
    "            loss_inputs = outputs\n",
    "            if target is not None:\n",
    "                target = (target,)\n",
    "                loss_inputs += target\n",
    "\n",
    "            loss_outputs = loss_fn(*loss_inputs)\n",
    "            loss = loss_outputs[0] if type(loss_outputs) in (tuple, list) else loss_outputs\n",
    "            val_loss += loss.item()\n",
    "\n",
    "            \n",
    "\n",
    "    return val_loss"
   ]
  },
  {
   "cell_type": "code",
   "execution_count": 21,
   "metadata": {
    "id": "M1cPjWocgycA"
   },
   "outputs": [
    {
     "name": "stdout",
     "output_type": "stream",
     "text": [
      "\n",
      "Epoch: 1/2. Training: Average loss: 0.1939\n",
      "\n",
      "Epoch: 1/2. Testing: Average loss: 0.1202\n",
      "\n",
      "Epoch: 2/2. Training: Average loss: 0.0940\n",
      "\n",
      "Epoch: 2/2. Testing: Average loss: 0.0865\n"
     ]
    }
   ],
   "source": [
    "n_epochs=2\n",
    "for epoch in range(n_epochs):\n",
    "        train_loss= train_epoch(triplet_train_loader, model, loss_fn, optimizer, cuda)\n",
    "        print('\\nEpoch: {}/{}. Training: Average loss: {:.4f}'.format(epoch + 1, n_epochs, train_loss))\n",
    "        test_loss= test_epoch(triplet_test_loader, model, loss_fn, cuda)\n",
    "        test_loss /= len(triplet_test_loader)\n",
    "        print('\\nEpoch: {}/{}. Testing: Average loss: {:.4f}'.format(epoch + 1, n_epochs,test_loss))"
   ]
  },
  {
   "cell_type": "markdown",
   "metadata": {
    "id": "RVHDOS1HCHXo"
   },
   "source": [
    "## Question 1:\n",
    "\n",
    "What is the average test loss obtained after training MNIST on triplet loss for two epochs?\n",
    "\n",
    "1.   0.5487\n",
    "2.   0.1039\n",
    "3.   0.8735\n",
    "4.   0.9924"
   ]
  },
  {
   "cell_type": "markdown",
   "metadata": {
    "id": "MAFI5JbWFFnI"
   },
   "source": [
    "Write code to calculate IoU between aligned predicted bounding-boxes bbox_p and ground-truth bounding-boxes bbox_gt. Assume a co-ordinate system that has origin (0,0) at the upper-left corner of the image, and to the right and down are +ve directions of x-axis and y-axis respectively."
   ]
  },
  {
   "cell_type": "code",
   "execution_count": 30,
   "metadata": {
    "id": "HuoAMvp7FEU3"
   },
   "outputs": [],
   "source": [
    "def calculate_iou(bbox_p, bbox_gt):\n",
    "    #input: bbox_p and bbox_gt are 4 dimensional tensors\n",
    "    #output: ious (N,) vector\n",
    "    \n",
    "    #### YOUR CODE STARTS HERE ####\n",
    "    # write code to compute the IoU between the bounding boxes\n",
    "    # find the top-left point of intersection of predicted and ground truth bounding boxes\n",
    "    #Hint : if the top left points of box1=(10,20) and box2=(30,10) the point of interestion is (30,20)\n",
    "    xA = max(bbox_p[0],bbox_gt[0])\n",
    "    yA = max(bbox_p[1],bbox_gt[1])\n",
    "    # find the bottom-right point of intersection of predicted and ground truth bounding boxes\n",
    "    #Hint : if the bottom-right points of box1=(20,30) and box2=(10,40) the point of interestion is (10,30)\n",
    "    xB = min(bbox_p[2],bbox_gt[2])\n",
    "    yB = min(bbox_p[3],bbox_gt[3])\n",
    "    #Find the width of overlapping region\n",
    "    # Hint: Try to imagine a rectangle whose top left corner is (xA,yA) and bottom right corner is (xB,yB)\n",
    "    overlap_width= yB-yA\n",
    "    if overlap_width<0:\n",
    "        overlap_width=0\n",
    "   #Find the height of overlapping region\n",
    "    overlap_ht= xB-xA\n",
    "    if overlap_ht<0:\n",
    "        overlap_ht=0\n",
    "    #Find the area of overlapping region\n",
    "    interArea = overlap_width*overlap_ht\n",
    "    box_width=bbox_p[2] - bbox_p[0]\n",
    "    box_ht=bbox_p[3] - bbox_p[1]\n",
    "    bbox_pArea = box_width*box_ht\n",
    "    bbox_gtArea = (bbox_gt[2] - bbox_gt[0] ) * (bbox_gt[3] - bbox_gt[1] )\n",
    "    #Calculate IOU\n",
    "    # you can refer to slide number 13 of week7_part1\n",
    "    # A union B= A+B-(A intersection B)\n",
    "    iou = interArea / float(bbox_pArea + bbox_gtArea - interArea)\n",
    "    #### YOUR CODE ENDS HERE ####\n",
    "    \n",
    "    return iou"
   ]
  },
  {
   "cell_type": "code",
   "execution_count": 31,
   "metadata": {
    "id": "CxEPYz2qJMxH"
   },
   "outputs": [
    {
     "name": "stdout",
     "output_type": "stream",
     "text": [
      "0.8766543144520911\n"
     ]
    }
   ],
   "source": [
    "bbox_p=[45, 66, 203, 112]\n",
    "bbox_gt=[54, 66, 198, 114]\n",
    "print(calculate_iou(bbox_p, bbox_gt))"
   ]
  },
  {
   "cell_type": "markdown",
   "metadata": {
    "id": "_53wKATVMM90"
   },
   "source": [
    "## Question 2:\n",
    "\n",
    "What is the Intersection Over Union value (rounded to three digits) for \n",
    "\n",
    "\n",
    "predicted bounding box=[45, 66, 203, 112]\n",
    "\n",
    "\n",
    "ground truth bounding box=[54, 66, 198, 114]\n",
    "\n",
    "1.   0.456\n",
    "2.   0.589\n",
    "3.   0.877\n",
    "4.   0.253"
   ]
  },
  {
   "cell_type": "markdown",
   "metadata": {
    "id": "DnIJ8jC_MNIC"
   },
   "source": [
    "We will implement Focal Loss by extending the nn class of pytorch. Given the predicted scoress and one-hot encoding of actual labels, it should return the loss value. Arxiv link to the research paper that proposed focal loss is given below."
   ]
  },
  {
   "cell_type": "code",
   "execution_count": 25,
   "metadata": {
    "id": "RD_VAILzKSwT"
   },
   "outputs": [],
   "source": [
    "class FocalLoss(nn.Module):\n",
    "    'Focal Loss - https://arxiv.org/abs/1708.02002'\n",
    "\n",
    "    def __init__(self, alpha=0.25, gamma=2):\n",
    "        super().__init__()\n",
    "        self.alpha = alpha\n",
    "        self.gamma = gamma\n",
    "\n",
    "    def forward(self, pred_logits, target):\n",
    "        pred = pred_logits.sigmoid()\n",
    "        ce = F.binary_cross_entropy_with_logits(pred_logits, target, reduction='none')\n",
    "        #### YOUR CODE STARTS HERE ####\n",
    "        # Refer equation (2) of the focal loss paper to find pt\n",
    "        pt = torch.where(target==1, pred, 1-pred)\n",
    "        # Refer to equation (5) of the focal loss paper to find F_loss\n",
    "        #assume ce=log(pt), alpha=self.alpha and gamma=self.gamma\n",
    "        F_loss= -self.alpha*((1-pt)**self.gamma)*ce\n",
    "        #### YOUR CODE ENDS HERE ####\n",
    "        return torch.mean(F_loss)\n"
   ]
  },
  {
   "cell_type": "code",
   "execution_count": 26,
   "metadata": {
    "id": "92yw-gHHXjnf"
   },
   "outputs": [],
   "source": [
    "\n",
    "# Assume predicted is the predicted score\n",
    "predicted_score=torch.tensor([[2.8189, 2.8334, 2.8816, 2.8754, 2.7178, 2.9008, 2.9511, 2.9113],\n",
    "  [3.0138, 3.1324, 3.1453, 3.1421, 3.0259, 3.0763, 2.9275, 3.0247],\n",
    "  [3.1808, 3.2000, 3.2535, 3.3548, 3.2533, 3.2937, 3.2101, 3.2429]])\n",
    "#One hot encoding of the actual labels\n",
    "actual_label=torch.tensor([[0., 1., 0., 0., 0., 0., 0., 0.],\n",
    "        [0., 0., 0., 0., 0., 0., 1., 0.],\n",
    "        [0., 0., 0., 1., 0., 0., 0., 0.]])\n"
   ]
  },
  {
   "cell_type": "code",
   "execution_count": 27,
   "metadata": {
    "id": "Y9a_osCfXiEq"
   },
   "outputs": [],
   "source": [
    "# create an object of FocalLoss\n",
    "focal_loss=FocalLoss(alpha=2, gamma=5)\n"
   ]
  },
  {
   "cell_type": "code",
   "execution_count": 28,
   "metadata": {
    "id": "2fpQo4hFYIGm"
   },
   "outputs": [
    {
     "name": "stdout",
     "output_type": "stream",
     "text": [
      "tensor(-4.3208)\n"
     ]
    }
   ],
   "source": [
    " #### YOUR CODE STARTS HERE ####\n",
    "#Calculate focal loss between predicted_score and actual_label\n",
    "#Use the focal_loss object created above\n",
    "#Print the value\n",
    "loss = focal_loss.forward(predicted_score,actual_label)\n",
    "print(loss)\n",
    "#### YOUR CODE ENDS HERE ####"
   ]
  },
  {
   "cell_type": "code",
   "execution_count": 49,
   "metadata": {},
   "outputs": [
    {
     "name": "stdout",
     "output_type": "stream",
     "text": [
      "tensor([[ 0.1870,  1.0845],\n",
      "        [-0.8132,  1.2791],\n",
      "        [-1.4758,  0.3695]]) tensor([[ 2.6829, -1.9958],\n",
      "        [ 0.6014,  0.9072],\n",
      "        [-0.6664, -0.7910]]) tensor([[ 0.1870,  1.0845],\n",
      "        [ 0.6014,  1.2791],\n",
      "        [-0.6664,  0.3695]])\n"
     ]
    }
   ],
   "source": [
    "# x = torch.randn(3, 2)\n",
    "# y = torch.randn(3, 2)\n",
    "\n",
    "\n",
    "# z = torch.where(x > 0, x, y)\n",
    "# print(x,y,z)"
   ]
  },
  {
   "cell_type": "markdown",
   "metadata": {
    "id": "1ETDu_MjFqa-"
   },
   "source": [
    "## Question 3:\n",
    "\n",
    "What is the value of focal loss obtained above?\n",
    "\n",
    "1.   4.3208\n",
    "2.   9.6345\n",
    "3.   1.8743\n",
    "4.   8.2538"
   ]
  },
  {
   "cell_type": "markdown",
   "metadata": {
    "id": "JQx0XSwcXWkw"
   },
   "source": [
    "# Part-2"
   ]
  },
  {
   "cell_type": "markdown",
   "metadata": {
    "id": "BtNaqMjcX8Nn"
   },
   "source": [
    "Time series prediction using recurrent models. \n",
    "\n",
    "Use the airline-passengers.csv file for this task."
   ]
  },
  {
   "cell_type": "code",
   "execution_count": 1,
   "metadata": {
    "id": "reH70kE4XgxA"
   },
   "outputs": [
    {
     "data": {
      "image/png": "[encoded data removed]",
      "text/plain": [
       "<Figure size 432x288 with 1 Axes>"
      ]
     },
     "metadata": {
      "needs_background": "light"
     },
     "output_type": "display_data"
    }
   ],
   "source": [
    "import numpy as np\n",
    "import matplotlib.pyplot as plt\n",
    "import pandas as pd\n",
    "import torch\n",
    "import torch.nn as nn\n",
    "from torch.autograd import Variable\n",
    "from sklearn.preprocessing import MinMaxScaler\n",
    "\n",
    "training_set = pd.read_csv('airline-passengers.csv')\n",
    "\n",
    "\n",
    "training_set = training_set.iloc[:,1:2].values\n",
    "\n",
    "plt.plot(training_set, label = 'Airline Passangers Data')\n",
    "plt.show()"
   ]
  },
  {
   "cell_type": "markdown",
   "metadata": {
    "id": "_qo-Bn3vxGvD"
   },
   "source": [
    "## Prepare the training and testing dataset.\n"
   ]
  },
  {
   "cell_type": "code",
   "execution_count": 10,
   "metadata": {
    "id": "ZCFod5yYxQXt"
   },
   "outputs": [],
   "source": [
    "def sliding_windows(data, seq_length):\n",
    "    x = []\n",
    "    y = []\n",
    "\n",
    "    for i in range(len(data)-seq_length-1):\n",
    "        _x = data[i:(i+seq_length)]\n",
    "        _y = data[i+seq_length]\n",
    "        x.append(_x)\n",
    "        y.append(_y)\n",
    "\n",
    "    return np.array(x),np.array(y)\n",
    "\n",
    "sc = MinMaxScaler()\n",
    "training_data = sc.fit_transform(training_set)\n",
    "\n",
    "seq_length = 4\n",
    "x, y = sliding_windows(training_data, seq_length)\n",
    "\n",
    "train_size = int(len(y) * 0.67)\n",
    "test_size = len(y) - train_size\n",
    "\n",
    "dataX = Variable(torch.Tensor(np.array(x)))\n",
    "dataY = Variable(torch.Tensor(np.array(y)))\n",
    "\n",
    "trainX = Variable(torch.Tensor(np.array(x[0:train_size])))\n",
    "trainY = Variable(torch.Tensor(np.array(y[0:train_size])))\n",
    "\n",
    "testX = Variable(torch.Tensor(np.array(x[train_size:len(x)])))\n",
    "testY = Variable(torch.Tensor(np.array(y[train_size:len(y)])))"
   ]
  },
  {
   "cell_type": "markdown",
   "metadata": {
    "id": "6-fbsv6_xVhu"
   },
   "source": [
    "## Create the model"
   ]
  },
  {
   "cell_type": "code",
   "execution_count": 11,
   "metadata": {
    "id": "KC_5L1NIxUsR"
   },
   "outputs": [],
   "source": [
    "class LSTM(nn.Module):\n",
    "\n",
    "    def __init__(self, num_classes, input_size, hidden_size, num_layers):\n",
    "        super(LSTM, self).__init__()\n",
    "        \n",
    "        self.num_classes = num_classes\n",
    "        self.num_layers = num_layers\n",
    "        self.input_size = input_size\n",
    "        self.hidden_size = hidden_size\n",
    "        self.seq_length = seq_length\n",
    "\n",
    "        #### YOUR CODE STARTS HERE ####\n",
    "        # define a lstm block with input size=input_size, hidden_size and num_layers, batch_first=True and a fc block with hidden_size as input and num_classes as output\n",
    "        self.lstm = nn.LSTM(input_size=self.input_size,hidden_size = self.hidden_size,num_layers=self.num_layers,batch_first=True)\n",
    "        \n",
    "        self.fc = nn.Linear(self.hidden_size,self.num_classes)\n",
    "        #### YOUR CODE ENDS HERE ####\n",
    "    def forward(self, x):\n",
    "       \n",
    "        \n",
    "        # Define a forward function for the LSTM block\n",
    "        batch_size = x.size(0)\n",
    "        hidden_state = Variable(torch.zeros(\n",
    "            self.num_layers, batch_size, self.hidden_size))\n",
    "        \n",
    "        cell_state = hidden_state\n",
    "        #### YOUR CODE STARTS HERE ####\n",
    "        # Propagate input through LSTM\n",
    "        # pass the input, hidden state and cell_state\n",
    "        output, (hidden_out, cell_out) = self.lstm(x)\n",
    "        \n",
    "        #flatten hidden_out and pass it through fc layer\n",
    "        hidden_out =  hidden_out.view(-1,self.hidden_size)\n",
    "        \n",
    "        out = self.fc(hidden_out)\n",
    "        #### YOUR CODE ENDS HERE ####\n",
    "        \n",
    "        return out"
   ]
  },
  {
   "cell_type": "markdown",
   "metadata": {
    "id": "sQKOnThFxxuJ"
   },
   "source": [
    "## Training"
   ]
  },
  {
   "cell_type": "code",
   "execution_count": 14,
   "metadata": {
    "id": "vlj9F1Z6xxFR"
   },
   "outputs": [
    {
     "name": "stdout",
     "output_type": "stream",
     "text": [
      "Epoch: 0, loss: 0.33608\n",
      "Epoch: 100, loss: 0.01524\n",
      "Epoch: 200, loss: 0.00730\n",
      "Epoch: 300, loss: 0.00293\n",
      "Epoch: 400, loss: 0.00265\n",
      "Epoch: 500, loss: 0.00243\n",
      "Epoch: 600, loss: 0.00223\n",
      "Epoch: 700, loss: 0.00205\n",
      "Epoch: 800, loss: 0.00191\n",
      "Epoch: 900, loss: 0.00180\n",
      "Epoch: 1000, loss: 0.00174\n",
      "Epoch: 1100, loss: 0.00170\n",
      "Epoch: 1200, loss: 0.00169\n",
      "Epoch: 1300, loss: 0.00168\n",
      "Epoch: 1400, loss: 0.00168\n",
      "Epoch: 1500, loss: 0.00167\n",
      "Epoch: 1600, loss: 0.00167\n",
      "Epoch: 1700, loss: 0.00167\n",
      "Epoch: 1800, loss: 0.00167\n",
      "Epoch: 1900, loss: 0.00167\n"
     ]
    }
   ],
   "source": [
    "num_epochs = 2000\n",
    "learning_rate = 0.01\n",
    "\n",
    "input_size = 1\n",
    "hidden_size = 2\n",
    "num_layers = 1\n",
    "\n",
    "num_classes = 1\n",
    "\n",
    "lstm = LSTM(num_classes, input_size, hidden_size, num_layers)\n",
    "\n",
    "criterion = torch.nn.MSELoss()    # mean-squared error for regression\n",
    "optimizer = torch.optim.Adam(lstm.parameters(), lr=learning_rate)\n",
    "\n",
    "\n",
    "# Train the model\n",
    "for epoch in range(num_epochs):\n",
    "\n",
    "    #### YOUR CODE STARTS HERE ####\n",
    "    # pass trainX as input to the lstm network\n",
    "    train_predict = lstm.forward(trainX)\n",
    "    # clear gradients in the optimizer\n",
    "    optimizer.zero_grad()\n",
    "    #calculate loss using criterion function\n",
    "    loss = criterion(train_predict,trainY)\n",
    "    #backpropogate loss\n",
    "    loss.backward()\n",
    "    #### YOUR CODE ENDS HERE ####\n",
    "    optimizer.step()\n",
    "\n",
    "    if epoch % 100 == 0:\n",
    "      print(\"Epoch: %d, loss: %1.5f\" % (epoch, loss.item()))"
   ]
  },
  {
   "cell_type": "markdown",
   "metadata": {
    "id": "gF0UsfR8yFrO"
   },
   "source": [
    "## Test and Visualize the results. \n",
    "Test the LSTM network by predicting value for testX\n",
    "\n"
   ]
  },
  {
   "cell_type": "code",
   "execution_count": 15,
   "metadata": {
    "id": "y7-eERYByJ3O"
   },
   "outputs": [
    {
     "name": "stdout",
     "output_type": "stream",
     "text": [
      "0.55697155\n"
     ]
    }
   ],
   "source": [
    "lstm.eval()\n",
    "pred = lstm(testX)\n",
    "\n",
    "predicted = pred.data.numpy()\n",
    "print(np.mean(predicted))"
   ]
  },
  {
   "cell_type": "markdown",
   "metadata": {
    "id": "hxBMnRiMapJk"
   },
   "source": [
    "## Question 4:\n",
    "\n",
    "What is the mean of all values predicted by the LSTM network on testX? (select the nearest value)\n",
    "\n",
    "1.   0.2054\n",
    "2.   0.1204\n",
    "3.   0.9742\n",
    "4.   0.5486"
   ]
  },
  {
   "cell_type": "code",
   "execution_count": null,
   "metadata": {},
   "outputs": [],
   "source": []
  }
 ],
 "metadata": {
  "colab": {
   "collapsed_sections": [],
   "name": "DL4V_4_2021_questions.ipynb",
   "provenance": []
  },
  "kernelspec": {
   "display_name": "Python 3",
   "language": "python",
   "name": "python3"
  },
  "language_info": {
   "codemirror_mode": {
    "name": "ipython",
    "version": 3
   },
   "file_extension": ".py",
   "mimetype": "text/x-python",
   "name": "python",
   "nbconvert_exporter": "python",
   "pygments_lexer": "ipython3",
   "version": "3.7.8"
  }
 },
 "nbformat": 4,
 "nbformat_minor": 1
}
